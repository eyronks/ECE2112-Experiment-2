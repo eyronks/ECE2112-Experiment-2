{
 "cells": [
  {
   "cell_type": "markdown",
   "id": "90db1b19-08e3-4415-ae0c-81827a41c009",
   "metadata": {},
   "source": [
    "# ECE2112: Experiment #2"
   ]
  },
  {
   "cell_type": "markdown",
   "id": "1a70dee1-2b61-44de-a535-ab2a844bfffc",
   "metadata": {},
   "source": [
    "Write a Python script/code in the Jupyter Notebook to do the given problems. You may submit your Jupyter notebook in the dedicated submission bin."
   ]
  },
  {
   "cell_type": "markdown",
   "id": "b4e1f29f-5a2f-40d4-8936-86948ee7a60c",
   "metadata": {},
   "source": [
    "**Normalization Problem:** In this problem, create a random 5 x 5 ndarray and store it to variable X. Normalize X. Save your normalized\r\n",
    "ndarray as X_normalized.np.y"
   ]
  },
  {
   "cell_type": "code",
   "execution_count": 7,
   "id": "ce15f82e-53af-4b38-b586-3315c1e7c2e1",
   "metadata": {},
   "outputs": [
    {
     "name": "stdout",
     "output_type": "stream",
     "text": [
      "Original Array:\n",
      "[[0.5488135  0.71518937 0.60276338 0.54488318 0.4236548 ]\n",
      " [0.64589411 0.43758721 0.891773   0.96366276 0.38344152]\n",
      " [0.79172504 0.52889492 0.56804456 0.92559664 0.07103606]\n",
      " [0.0871293  0.0202184  0.83261985 0.77815675 0.87001215]\n",
      " [0.97861834 0.79915856 0.46147936 0.78052918 0.11827443]]\n",
      "\n",
      "Normalized Array:\n",
      "[[-0.14854421  0.44055117  0.04247881 -0.1624605  -0.59169993]\n",
      " [ 0.19519398 -0.54236874  1.06578972  1.32033341 -0.73408512]\n",
      " [ 0.71154487 -0.21907095 -0.08045184  1.18555078 -1.84023484]\n",
      " [-1.78325269 -2.02016749  0.85634317  0.66350295  0.98873998]\n",
      " [ 1.37328739  0.73786513 -0.4577726   0.67190312 -1.67297558]]\n"
     ]
    }
   ],
   "source": [
    "# Import numerical python library\n",
    "import numpy as np\n",
    "\n",
    "# Create a random 5x5 ndarray\n",
    "np.random.seed(0)  # To ensure that the same random array is generated\n",
    "X = np.random.rand(5, 5)\n",
    "\n",
    "# Calculate the mean and standard deviation of the array\n",
    "mean = X.mean()\n",
    "std = X.std()\n",
    "\n",
    "# Normalize the array\n",
    "X_normalized = (X - mean) / std\n",
    "\n",
    "# Print the original and normalized arrays\n",
    "print(\"Original Array:\")\n",
    "print(X)\n",
    "print(\"\\nNormalized Array:\")\n",
    "print(X_normalized)\n",
    "\n",
    "# Save the normalized array as X_normalized.npy\n",
    "np.save('X_normalized.npy', X_normalized)"
   ]
  },
  {
   "cell_type": "markdown",
   "id": "7bfefa75-481e-48bc-a3de-dae6989a1d39",
   "metadata": {},
   "source": [
    "**Divisible by 3 Problem:** In this problem, create a 10 x 10 ndarray which are the squares of the first 100 positive integers. \n",
    "From this ndarray, determine all the elements that are divisible by 3. Save the result as div_by_3.np.yy"
   ]
  },
  {
   "cell_type": "code",
   "execution_count": 10,
   "id": "34a6134a-76dc-4dc5-9c25-312b15782e6d",
   "metadata": {},
   "outputs": [
    {
     "name": "stdout",
     "output_type": "stream",
     "text": [
      "[   9   36   81  144  225  324  441  576  729  900 1089 1296 1521 1764\n",
      " 2025 2304 2601 2916 3249 3600 3969 4356 4761 5184 5625 6084 6561 7056\n",
      " 7569 8100 8649 9216 9801]\n"
     ]
    }
   ],
   "source": [
    "# Import numerical python library\n",
    "import numpy as np\n",
    "\n",
    "# Create the 10x10 array of squares\n",
    "A = np.array([i**2 for i in range(1, 101)]).reshape(10, 10)\n",
    "\n",
    "# Find the elements divisible by 3\n",
    "div_by_3 = A[A % 3 == 0]\n",
    "\n",
    "# Print the resulting array\n",
    "print(div_by_3)\n",
    "\n",
    "# Save the result\n",
    "np.save('div_by_3.npy', div_by_3)"
   ]
  },
  {
   "cell_type": "code",
   "execution_count": null,
   "id": "10b4400d-3f9c-4695-9589-406c9e7d1c34",
   "metadata": {},
   "outputs": [],
   "source": []
  }
 ],
 "metadata": {
  "kernelspec": {
   "display_name": "Python 3 (ipykernel)",
   "language": "python",
   "name": "python3"
  },
  "language_info": {
   "codemirror_mode": {
    "name": "ipython",
    "version": 3
   },
   "file_extension": ".py",
   "mimetype": "text/x-python",
   "name": "python",
   "nbconvert_exporter": "python",
   "pygments_lexer": "ipython3",
   "version": "3.12.4"
  }
 },
 "nbformat": 4,
 "nbformat_minor": 5
}
