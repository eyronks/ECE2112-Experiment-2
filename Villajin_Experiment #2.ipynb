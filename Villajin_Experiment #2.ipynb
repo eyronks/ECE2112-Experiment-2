{
 "cells": [
  {
   "cell_type": "markdown",
   "id": "90db1b19-08e3-4415-ae0c-81827a41c009",
   "metadata": {},
   "source": [
    "## ECE2112: Experiment #2"
   ]
  },
  {
   "cell_type": "markdown",
   "id": "1a70dee1-2b61-44de-a535-ab2a844bfffc",
   "metadata": {},
   "source": [
    "This file contains Python scripts for solving various programming problems in ECE2112. The problems are focused on creating arrays and using the NumPy library for numerical analysis. Below are the details of each script included in this file:"
   ]
  },
  {
   "cell_type": "markdown",
   "id": "b4e1f29f-5a2f-40d4-8936-86948ee7a60c",
   "metadata": {},
   "source": [
    "**Normalization Problem** "
   ]
  },
  {
   "cell_type": "markdown",
   "id": "290851e0",
   "metadata": {},
   "source": [
    "**Overview:** In this problem, create a random 5 x 5 ndarray and store it to variable X. Normalize X. Save your normalized\n",
    "ndarray as X_normalized.np.y"
   ]
  },
  {
   "cell_type": "code",
   "execution_count": 7,
   "id": "ce15f82e-53af-4b38-b586-3315c1e7c2e1",
   "metadata": {},
   "outputs": [
    {
     "name": "stdout",
     "output_type": "stream",
     "text": [
      "Original Array:\n",
      "[[0.5488135  0.71518937 0.60276338 0.54488318 0.4236548 ]\n",
      " [0.64589411 0.43758721 0.891773   0.96366276 0.38344152]\n",
      " [0.79172504 0.52889492 0.56804456 0.92559664 0.07103606]\n",
      " [0.0871293  0.0202184  0.83261985 0.77815675 0.87001215]\n",
      " [0.97861834 0.79915856 0.46147936 0.78052918 0.11827443]]\n",
      "\n",
      "Normalized Array:\n",
      "[[-0.14854421  0.44055117  0.04247881 -0.1624605  -0.59169993]\n",
      " [ 0.19519398 -0.54236874  1.06578972  1.32033341 -0.73408512]\n",
      " [ 0.71154487 -0.21907095 -0.08045184  1.18555078 -1.84023484]\n",
      " [-1.78325269 -2.02016749  0.85634317  0.66350295  0.98873998]\n",
      " [ 1.37328739  0.73786513 -0.4577726   0.67190312 -1.67297558]]\n"
     ]
    }
   ],
   "source": [
    "# Import numerical python library\n",
    "import numpy as np\n",
    "\n",
    "# Create a random 5x5 ndarray\n",
    "np.random.seed(0)  # To ensure that the same random array is generated\n",
    "X = np.random.rand(5, 5)\n",
    "\n",
    "# Calculate the mean and standard deviation of the array\n",
    "mean = X.mean()\n",
    "std = X.std()\n",
    "\n",
    "# Normalize the array\n",
    "X_normalized = (X - mean) / std\n",
    "\n",
    "# Print the original and normalized arrays\n",
    "print(\"Original Array:\")\n",
    "print(X)\n",
    "print(\"\\nNormalized Array:\")\n",
    "print(X_normalized)\n",
    "\n",
    "# Save the normalized array as X_normalized.npy\n",
    "np.save('X_normalized.npy', X_normalized)"
   ]
  },
  {
   "cell_type": "markdown",
   "id": "7f832091",
   "metadata": {},
   "source": [
    "**Solution Approach:** The code imports NumPy and creates a 5x5 random ndarray, ensuring reproducibility with a random seed. It calculates the array's mean and standard deviation, then normalizes the array by subtracting the mean and dividing by the standard deviation. The original and normalized arrays are printed for comparison, and the normalized array is saved as X_normalized.npy using NumPy's save function. This approach efficiently performs data preprocessing tasks using NumPy's array operations."
   ]
  },
  {
   "cell_type": "markdown",
   "id": "7bfefa75-481e-48bc-a3de-dae6989a1d39",
   "metadata": {},
   "source": [
    "**Divisible by 3 Problem** "
   ]
  },
  {
   "cell_type": "markdown",
   "id": "d54167fe",
   "metadata": {},
   "source": [
    "**Overview:** In this problem, create a 10 x 10 ndarray which are the squares of the first 100 positive integers. \n",
    "From this ndarray, determine all the elements that are divisible by 3. Save the result as div_by_3.np.yy"
   ]
  },
  {
   "cell_type": "code",
   "execution_count": null,
   "id": "34a6134a-76dc-4dc5-9c25-312b15782e6d",
   "metadata": {},
   "outputs": [],
   "source": [
    "# Import numerical python library\n",
    "import numpy as np\n",
    "\n",
    "# Create the 10x10 array of squares\n",
    "A = np.array([i**2 for i in range(1, 101)]).reshape(10, 10)\n",
    "\n",
    "# Find the elements divisible by 3\n",
    "div_by_3 = A[A % 3 == 0]\n",
    "\n",
    "# Save the result\n",
    "np.save('div_by_3.npy', div_by_3)"
   ]
  },
  {
   "cell_type": "markdown",
   "id": "baa5b51b",
   "metadata": {},
   "source": [
    "**Solution Approach:** The code takes a step-by-step approach to solve the problem. It begins by generating an array of squares of the first 100 positive integers using a list comprehension and reshapes it into a 10x10 matrix. Next, it uses NumPy's vectorized operations to find the elements in the array that are divisible by 3, by applying the modulo operator (%) to each element and checking if the result is 0. Finally, it saves the resulting array of elements divisible by 3 to a file named div_by_3.npy using NumPy's save function. This approach leverages NumPy's efficient array operations to perform the tasks in a concise and efficient manner."
   ]
  }
 ],
 "metadata": {
  "kernelspec": {
   "display_name": "Python 3 (ipykernel)",
   "language": "python",
   "name": "python3"
  },
  "language_info": {
   "codemirror_mode": {
    "name": "ipython",
    "version": 3
   },
   "file_extension": ".py",
   "mimetype": "text/x-python",
   "name": "python",
   "nbconvert_exporter": "python",
   "pygments_lexer": "ipython3",
   "version": "3.12.4"
  }
 },
 "nbformat": 4,
 "nbformat_minor": 5
}
